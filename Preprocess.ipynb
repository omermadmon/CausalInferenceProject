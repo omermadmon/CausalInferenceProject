{
 "cells": [
  {
   "cell_type": "markdown",
   "id": "4ef95913-3f3e-430e-9bf6-b692c39922be",
   "metadata": {},
   "source": [
    "# Preprocess"
   ]
  },
  {
   "cell_type": "code",
   "execution_count": null,
   "id": "8cee1831-5470-4fc0-b485-ebfdf9b13e5d",
   "metadata": {},
   "outputs": [],
   "source": [
    "!pip install sentence-transformers umap nltk emoji==0.6.0"
   ]
  },
  {
   "cell_type": "code",
   "execution_count": 24,
   "id": "15e7da85-2604-4789-98bd-e8e55e9c0a22",
   "metadata": {},
   "outputs": [
    {
     "name": "stdout",
     "output_type": "stream",
     "text": [
      "The autoreload extension is already loaded. To reload it, use:\n",
      "  %reload_ext autoreload\n"
     ]
    }
   ],
   "source": [
    "import numpy as np\n",
    "import pandas as pd\n",
    "import torch\n",
    "import pickle\n",
    "from tqdm import tqdm\n",
    "from sklearn.linear_model import LogisticRegression\n",
    "from Preprocess import discrete_hour, normalize_tweet, encode_bertweet, encode_user_description, encode_user_covariates\n",
    "\n",
    "tqdm.pandas()\n",
    "%load_ext autoreload\n",
    "%autoreload 2"
   ]
  },
  {
   "cell_type": "code",
   "execution_count": null,
   "id": "47f78fb2-97c8-466c-b458-1e6dcf907420",
   "metadata": {},
   "outputs": [
    {
     "name": "stdout",
     "output_type": "stream",
     "text": [
      "Preprocessing music data . . .\n"
     ]
    },
    {
     "name": "stderr",
     "output_type": "stream",
     "text": [
      "100%|█████████████████████████████████████████████████████████████████████████████████████████████████████████| 9035/9035 [32:29<00:00,  4.64it/s]\n",
      " 42%|████████████████████████████████████████████                                                             | 3792/9035 [26:54<22:33,  3.87it/s]"
     ]
    }
   ],
   "source": [
    "domains = ['music', 'politics', 'health', 'technology']\n",
    "for domain in domains:\n",
    "    print(f'Preprocessing {domain} data . . .')\n",
    "    df = pd.read_pickle(f'pickles/{domain}_tweets_filtered.pkl')\n",
    "    df['normalized_text'] = df['text'].apply(normalize_tweet)\n",
    "    X_text = df['normalized_text'].progress_apply(encode_bertweet)\n",
    "    X_user_description = df['user_description'].progress_apply(encode_user_description)\n",
    "    X_user_covariates = df.progress_apply(lambda x: encode_user_covariates(x), axis=1)\n",
    "    T = df['scaled_favorite_count']\n",
    "    Y = df['hour'].apply(discrete_hour)\n",
    "    \n",
    "    X_text = np.vstack(X_text)\n",
    "    X_user_description = np.vstack(X_user_description)\n",
    "    X_user_covariates = np.vstack(X_user_covariates)\n",
    "    \n",
    "    with open(f'pickles/encodings/{domain}/X_text.pkl', 'wb') as f: pickle.dump(X_text, f)\n",
    "    with open(f'pickles/encodings/{domain}/X_user_description.pkl', 'wb') as f: pickle.dump(X_user_description, f)\n",
    "    with open(f'pickles/encodings/{domain}/X_user_covariates.pkl', 'wb') as f: pickle.dump(X_user_covariates, f)\n",
    "    with open(f'pickles/encodings/{domain}/T.pkl', 'wb') as f: pickle.dump(T, f)\n",
    "    with open(f'pickles/encodings/{domain}/Y.pkl', 'wb') as f: pickle.dump(Y, f)"
   ]
  },
  {
   "cell_type": "code",
   "execution_count": null,
   "id": "a88868f2-621b-4b0e-84b0-23424ddfcd0f",
   "metadata": {},
   "outputs": [],
   "source": [
    "with open(f'pickles/encodings/music/X_text.pkl', 'rb') as f:\n",
    "    X = pickle.load(f)\n",
    "X.shape"
   ]
  }
 ],
 "metadata": {
  "kernelspec": {
   "display_name": "Python 3 (ipykernel)",
   "language": "python",
   "name": "python3"
  },
  "language_info": {
   "codemirror_mode": {
    "name": "ipython",
    "version": 3
   },
   "file_extension": ".py",
   "mimetype": "text/x-python",
   "name": "python",
   "nbconvert_exporter": "python",
   "pygments_lexer": "ipython3",
   "version": "3.9.12"
  }
 },
 "nbformat": 4,
 "nbformat_minor": 5
}
