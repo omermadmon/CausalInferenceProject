{
 "cells": [
  {
   "cell_type": "markdown",
   "id": "4ef95913-3f3e-430e-9bf6-b692c39922be",
   "metadata": {},
   "source": [
    "# Preprocess"
   ]
  },
  {
   "cell_type": "code",
   "execution_count": null,
   "id": "8cee1831-5470-4fc0-b485-ebfdf9b13e5d",
   "metadata": {},
   "outputs": [],
   "source": [
    "!pip install sentence-transformers umap nltk emoji==0.6.0"
   ]
  },
  {
   "cell_type": "code",
   "execution_count": 4,
   "id": "15e7da85-2604-4789-98bd-e8e55e9c0a22",
   "metadata": {},
   "outputs": [
    {
     "name": "stdout",
     "output_type": "stream",
     "text": [
      "The autoreload extension is already loaded. To reload it, use:\n",
      "  %reload_ext autoreload\n"
     ]
    }
   ],
   "source": [
    "import numpy as np\n",
    "import pandas as pd\n",
    "import torch\n",
    "import pickle\n",
    "from umap import UMAP\n",
    "from tqdm import tqdm\n",
    "from sklearn.linear_model import LogisticRegression\n",
    "from Preprocess import discrete_hour, normalize_tweet, encode_bertweet, encode_user_description, encode_user_covariates\n",
    "\n",
    "tqdm.pandas()\n",
    "%load_ext autoreload\n",
    "%autoreload 2"
   ]
  },
  {
   "cell_type": "code",
   "execution_count": 35,
   "id": "47f78fb2-97c8-466c-b458-1e6dcf907420",
   "metadata": {},
   "outputs": [
    {
     "name": "stdout",
     "output_type": "stream",
     "text": [
      "Preprocessing music data . . .\n"
     ]
    },
    {
     "name": "stderr",
     "output_type": "stream",
     "text": [
      "100%|█████████████████████████████████████████████████████████████████████████████████████████████████████████| 9035/9035 [32:29<00:00,  4.64it/s]\n",
      "100%|█████████████████████████████████████████████████████████████████████████████████████████████████████████| 9035/9035 [47:59<00:00,  3.14it/s]\n",
      "100%|███████████████████████████████████████████████████████████████████████████████████████████████████████| 9035/9035 [00:04<00:00, 2241.88it/s]\n"
     ]
    },
    {
     "name": "stdout",
     "output_type": "stream",
     "text": [
      "Preprocessing politics data . . .\n"
     ]
    },
    {
     "name": "stderr",
     "output_type": "stream",
     "text": [
      "100%|█████████████████████████████████████████████████████████████████████████████████████████████████████████| 1483/1483 [05:12<00:00,  4.75it/s]\n",
      "100%|█████████████████████████████████████████████████████████████████████████████████████████████████████████| 1483/1483 [05:41<00:00,  4.34it/s]\n",
      "100%|███████████████████████████████████████████████████████████████████████████████████████████████████████| 1483/1483 [00:00<00:00, 1973.97it/s]\n"
     ]
    },
    {
     "name": "stdout",
     "output_type": "stream",
     "text": [
      "Preprocessing health data . . .\n"
     ]
    },
    {
     "name": "stderr",
     "output_type": "stream",
     "text": [
      "100%|█████████████████████████████████████████████████████████████████████████████████████████████████████████| 4157/4157 [14:01<00:00,  4.94it/s]\n",
      "100%|█████████████████████████████████████████████████████████████████████████████████████████████████████████| 4157/4157 [15:02<00:00,  4.60it/s]\n",
      "100%|███████████████████████████████████████████████████████████████████████████████████████████████████████| 4157/4157 [00:01<00:00, 2226.54it/s]\n"
     ]
    },
    {
     "name": "stdout",
     "output_type": "stream",
     "text": [
      "Preprocessing technology data . . .\n"
     ]
    },
    {
     "name": "stderr",
     "output_type": "stream",
     "text": [
      "100%|█████████████████████████████████████████████████████████████████████████████████████████████████████████| 4741/4741 [15:16<00:00,  5.18it/s]\n",
      "100%|█████████████████████████████████████████████████████████████████████████████████████████████████████████| 4741/4741 [16:45<00:00,  4.72it/s]\n",
      "100%|███████████████████████████████████████████████████████████████████████████████████████████████████████| 4741/4741 [00:02<00:00, 2223.25it/s]\n"
     ]
    }
   ],
   "source": [
    "domains = ['music', 'politics', 'health', 'technology']\n",
    "for domain in domains:\n",
    "    print(f'Preprocessing {domain} data . . .')\n",
    "    df = pd.read_pickle(f'pickles/{domain}_tweets_filtered.pkl')\n",
    "    df['normalized_text'] = df['text'].apply(normalize_tweet)\n",
    "    X_text = df['normalized_text'].progress_apply(encode_bertweet)\n",
    "    X_user_description = df['user_description'].progress_apply(encode_user_description)\n",
    "    X_user_covariates = df.progress_apply(lambda x: encode_user_covariates(x), axis=1)\n",
    "    Y = df['scaled_favorite_count']\n",
    "    T = df['hour'].apply(discrete_hour)\n",
    "    \n",
    "    X_text = np.vstack(X_text)\n",
    "    X_user_description = np.vstack(X_user_description)\n",
    "    X_user_covariates = np.vstack(X_user_covariates)\n",
    "    \n",
    "    with open(f'pickles/encodings/{domain}/X_text.pkl', 'wb') as f: pickle.dump(X_text, f)\n",
    "    with open(f'pickles/encodings/{domain}/X_user_description.pkl', 'wb') as f: pickle.dump(X_user_description, f)\n",
    "    with open(f'pickles/encodings/{domain}/X_user_covariates.pkl', 'wb') as f: pickle.dump(X_user_covariates, f)\n",
    "    with open(f'pickles/encodings/{domain}/T.pkl', 'wb') as f: pickle.dump(T, f)\n",
    "    with open(f'pickles/encodings/{domain}/Y.pkl', 'wb') as f: pickle.dump(Y, f)"
   ]
  },
  {
   "cell_type": "code",
   "execution_count": 3,
   "id": "5d206d0d-c36a-4201-b0b9-38f291677e15",
   "metadata": {},
   "outputs": [],
   "source": [
    "domains = ['music', 'politics', 'health', 'technology']\n",
    "for domain in domains:\n",
    "    with open(f'pickles/encodings/{domain}/T.pkl', 'rb') as f: T = pickle.load(f)\n",
    "    with open(f'pickles/encodings/{domain}/Y.pkl', 'rb') as f: Y = pickle.load(f)\n",
    "    with open(f'pickles/encodings/{domain}/T.pkl', 'wb') as f: pickle.dump(T.values, f)\n",
    "    with open(f'pickles/encodings/{domain}/Y.pkl', 'wb') as f: pickle.dump(Y.values, f)"
   ]
  },
  {
   "cell_type": "code",
   "execution_count": 8,
   "id": "f35f2d8d-ef17-445c-b694-760423876e5f",
   "metadata": {},
   "outputs": [],
   "source": [
    "domains = ['music', 'politics', 'health', 'technology']\n",
    "for domain in domains:\n",
    "    with open(f'pickles/encodings/{domain}/X_text.pkl', 'rb') as f: X_text = pickle.load(f)\n",
    "    with open(f'pickles/encodings/{domain}/X_user_description.pkl', 'rb') as f: X_user_description = pickle.load(f)\n",
    "    X_text_reduced = UMAP(n_neighbors=15, n_components=X_text.shape[1] / 2).fit_transform(X_text)\n",
    "    X_user_description_reduced = UMAP(n_neighbors=15, n_components=X_user_description.shape[1] / 2).fit_transform(X_user_description)\n",
    "    with open(f'pickles/encodings/{domain}/X_text_reduced.pkl', 'wb') as f: pickle.dump(X_text_reduced, f)\n",
    "    with open(f'pickles/encodings/{domain}/X_user_description_reduced.pkl', 'wb') as f: pickle.dump(X_user_description_reduced, f)"
   ]
  }
 ],
 "metadata": {
  "kernelspec": {
   "display_name": "Python 3 (ipykernel)",
   "language": "python",
   "name": "python3"
  },
  "language_info": {
   "codemirror_mode": {
    "name": "ipython",
    "version": 3
   },
   "file_extension": ".py",
   "mimetype": "text/x-python",
   "name": "python",
   "nbconvert_exporter": "python",
   "pygments_lexer": "ipython3",
   "version": "3.9.12"
  }
 },
 "nbformat": 4,
 "nbformat_minor": 5
}
