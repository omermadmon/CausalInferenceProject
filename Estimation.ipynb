{
 "cells": [
  {
   "cell_type": "markdown",
   "id": "90735ef4-96b1-4050-9a3e-5f9d005bbcb8",
   "metadata": {},
   "source": [
    "# Estimation"
   ]
  },
  {
   "cell_type": "code",
   "execution_count": 83,
   "id": "b9d81a5b-705b-4184-b46d-5ab9df5bc08a",
   "metadata": {},
   "outputs": [
    {
     "name": "stdout",
     "output_type": "stream",
     "text": [
      "The autoreload extension is already loaded. To reload it, use:\n",
      "  %reload_ext autoreload\n"
     ]
    }
   ],
   "source": [
    "import pickle\n",
    "import numpy as np\n",
    "import pandas as pd\n",
    "import matplotlib.pyplot as plt\n",
    "import EstimationMethods as esti\n",
    "from sklearn.linear_model import LinearRegression, Lasso\n",
    "from sklearn.ensemble import RandomForestRegressor\n",
    "from warnings import simplefilter\n",
    "from tqdm import tqdm\n",
    "\n",
    "simplefilter(action='ignore')\n",
    "%matplotlib inline\n",
    "%load_ext autoreload\n",
    "%autoreload 2"
   ]
  },
  {
   "cell_type": "code",
   "execution_count": 98,
   "id": "1ed762c9-a13a-4f23-850b-5137871e599f",
   "metadata": {},
   "outputs": [],
   "source": [
    "domains = ['music', 'politics', 'health', 'technology']\n",
    "X_text_dict = dict()\n",
    "X_user_description_dict = dict()\n",
    "X_user_covariates_dict = dict()\n",
    "T_dict = dict()\n",
    "Y_dict = dict()\n",
    "\n",
    "for domain in domains:\n",
    "    with open(f'pickles/encodings/{domain}/X_text_reduced.pkl', 'rb') as f: X_text_dict[domain] = pickle.load(f)\n",
    "    with open(f'pickles/encodings/{domain}/X_user_description_reduced.pkl', 'rb') as f: X_user_description_dict[domain] = pickle.load(f)\n",
    "    with open(f'pickles/encodings/{domain}/X_user_covariates.pkl', 'rb') as f: X_user_covariates_dict[domain] = pickle.load(f)\n",
    "    with open(f'pickles/encodings/{domain}/T.pkl', 'rb') as f: T_dict[domain] = pickle.load(f)\n",
    "    with open(f'pickles/encodings/{domain}/Y.pkl', 'rb') as f: Y_dict[domain] = pickle.load(f)"
   ]
  },
  {
   "cell_type": "markdown",
   "id": "1c2943e2-2141-4cd6-8990-e3c795c1f347",
   "metadata": {},
   "source": [
    "## Linear S-Learner and T-Learner"
   ]
  },
  {
   "cell_type": "code",
   "execution_count": 84,
   "id": "fa1aa80c-bf0b-4eaa-952e-af043675d3b2",
   "metadata": {},
   "outputs": [
    {
     "name": "stdout",
     "output_type": "stream",
     "text": [
      "music\n",
      "0 1\n"
     ]
    },
    {
     "name": "stderr",
     "output_type": "stream",
     "text": [
      "100%|██████████████████████████████████████████████████████████████████████████████████████████████████████████████████████████████████████████████████| 100/100 [00:35<00:00,  2.79it/s]\n"
     ]
    },
    {
     "name": "stdout",
     "output_type": "stream",
     "text": [
      "1 2\n"
     ]
    },
    {
     "name": "stderr",
     "output_type": "stream",
     "text": [
      "100%|██████████████████████████████████████████████████████████████████████████████████████████████████████████████████████████████████████████████████| 100/100 [00:42<00:00,  2.37it/s]\n"
     ]
    },
    {
     "name": "stdout",
     "output_type": "stream",
     "text": [
      "2 3\n"
     ]
    },
    {
     "name": "stderr",
     "output_type": "stream",
     "text": [
      "100%|██████████████████████████████████████████████████████████████████████████████████████████████████████████████████████████████████████████████████| 100/100 [01:01<00:00,  1.63it/s]\n"
     ]
    },
    {
     "name": "stdout",
     "output_type": "stream",
     "text": [
      "3 0\n"
     ]
    },
    {
     "name": "stderr",
     "output_type": "stream",
     "text": [
      "100%|██████████████████████████████████████████████████████████████████████████████████████████████████████████████████████████████████████████████████| 100/100 [00:57<00:00,  1.73it/s]\n"
     ]
    },
    {
     "name": "stdout",
     "output_type": "stream",
     "text": [
      "politics\n",
      "0 1\n"
     ]
    },
    {
     "name": "stderr",
     "output_type": "stream",
     "text": [
      "100%|██████████████████████████████████████████████████████████████████████████████████████████████████████████████████████████████████████████████████| 100/100 [00:04<00:00, 20.66it/s]\n"
     ]
    },
    {
     "name": "stdout",
     "output_type": "stream",
     "text": [
      "1 2\n"
     ]
    },
    {
     "name": "stderr",
     "output_type": "stream",
     "text": [
      "100%|██████████████████████████████████████████████████████████████████████████████████████████████████████████████████████████████████████████████████| 100/100 [00:08<00:00, 11.64it/s]\n"
     ]
    },
    {
     "name": "stdout",
     "output_type": "stream",
     "text": [
      "2 3\n"
     ]
    },
    {
     "name": "stderr",
     "output_type": "stream",
     "text": [
      "100%|██████████████████████████████████████████████████████████████████████████████████████████████████████████████████████████████████████████████████| 100/100 [00:16<00:00,  6.02it/s]\n"
     ]
    },
    {
     "name": "stdout",
     "output_type": "stream",
     "text": [
      "3 0\n"
     ]
    },
    {
     "name": "stderr",
     "output_type": "stream",
     "text": [
      "100%|██████████████████████████████████████████████████████████████████████████████████████████████████████████████████████████████████████████████████| 100/100 [00:12<00:00,  8.17it/s]\n"
     ]
    },
    {
     "name": "stdout",
     "output_type": "stream",
     "text": [
      "health\n",
      "0 1\n"
     ]
    },
    {
     "name": "stderr",
     "output_type": "stream",
     "text": [
      "100%|██████████████████████████████████████████████████████████████████████████████████████████████████████████████████████████████████████████████████| 100/100 [00:20<00:00,  4.86it/s]\n"
     ]
    },
    {
     "name": "stdout",
     "output_type": "stream",
     "text": [
      "1 2\n"
     ]
    },
    {
     "name": "stderr",
     "output_type": "stream",
     "text": [
      "100%|██████████████████████████████████████████████████████████████████████████████████████████████████████████████████████████████████████████████████| 100/100 [00:34<00:00,  2.86it/s]\n"
     ]
    },
    {
     "name": "stdout",
     "output_type": "stream",
     "text": [
      "2 3\n"
     ]
    },
    {
     "name": "stderr",
     "output_type": "stream",
     "text": [
      "100%|██████████████████████████████████████████████████████████████████████████████████████████████████████████████████████████████████████████████████| 100/100 [00:40<00:00,  2.50it/s]\n"
     ]
    },
    {
     "name": "stdout",
     "output_type": "stream",
     "text": [
      "3 0\n"
     ]
    },
    {
     "name": "stderr",
     "output_type": "stream",
     "text": [
      "100%|██████████████████████████████████████████████████████████████████████████████████████████████████████████████████████████████████████████████████| 100/100 [00:31<00:00,  3.21it/s]\n"
     ]
    },
    {
     "name": "stdout",
     "output_type": "stream",
     "text": [
      "technology\n",
      "0 1\n"
     ]
    },
    {
     "name": "stderr",
     "output_type": "stream",
     "text": [
      "100%|██████████████████████████████████████████████████████████████████████████████████████████████████████████████████████████████████████████████████| 100/100 [00:21<00:00,  4.65it/s]\n"
     ]
    },
    {
     "name": "stdout",
     "output_type": "stream",
     "text": [
      "1 2\n"
     ]
    },
    {
     "name": "stderr",
     "output_type": "stream",
     "text": [
      "100%|██████████████████████████████████████████████████████████████████████████████████████████████████████████████████████████████████████████████████| 100/100 [00:39<00:00,  2.51it/s]\n"
     ]
    },
    {
     "name": "stdout",
     "output_type": "stream",
     "text": [
      "2 3\n"
     ]
    },
    {
     "name": "stderr",
     "output_type": "stream",
     "text": [
      "100%|██████████████████████████████████████████████████████████████████████████████████████████████████████████████████████████████████████████████████| 100/100 [00:40<00:00,  2.48it/s]\n"
     ]
    },
    {
     "name": "stdout",
     "output_type": "stream",
     "text": [
      "3 0\n"
     ]
    },
    {
     "name": "stderr",
     "output_type": "stream",
     "text": [
      "100%|██████████████████████████████████████████████████████████████████████████████████████████████████████████████████████████████████████████████████| 100/100 [00:34<00:00,  2.87it/s]\n"
     ]
    }
   ],
   "source": [
    "treatment_pairs = [(0,1), (1,2), (2,3), (3,0)]\n",
    "domains = ['music', 'politics', 'health', 'technology']\n",
    "B = 100\n",
    "\n",
    "s_learner_res = {\n",
    "    k_domain: {\n",
    "        k_treatment: {\n",
    "            'ate': list(),\n",
    "            'train_mse': list(),\n",
    "            'test_mse': list()\n",
    "        } for k_treatment in treatment_pairs\n",
    "    } for k_domain in domains\n",
    "}\n",
    "\n",
    "t_learner_res = {\n",
    "    k_domain: {\n",
    "        k_treatment: {\n",
    "            'ate': list(),\n",
    "            'train_mse_0': list(),\n",
    "            'test_mse_0': list(),\n",
    "            'train_mse_1': list(),\n",
    "            'test_mse_1': list()\n",
    "        } for k_treatment in treatment_pairs\n",
    "    } for k_domain in domains\n",
    "}\n",
    "\n",
    "\n",
    "for domain in domains:\n",
    "    print(domain)\n",
    "    for (t1, t2) in treatment_pairs:\n",
    "        print(t1, t2)\n",
    "        # Linear S-learner\n",
    "        for b in tqdm(range(B)):\n",
    "            ate, model, train_mse, test_mse = esti.S_learner(X_text_dict, X_user_description_dict, X_user_covariates_dict, T_dict, Y_dict, \n",
    "                                                     t1=t1, t2=t2, domain=domain, model=LinearRegression(), sample_with_replacements=True)\n",
    "            s_learner_res[domain][(t1, t2)]['ate'].append(ate)\n",
    "            s_learner_res[domain][(t1, t2)]['train_mse'].append(train_mse)\n",
    "            s_learner_res[domain][(t1, t2)]['test_mse'].append(test_mse)\n",
    "        \n",
    "        # Linear T-learner\n",
    "        for b in tqdm(range(B)):\n",
    "            ate, model_0, model_1, train_mse_0, test_mse_0, train_mse_1, test_mse_1 = esti.T_learner(X_text_dict, X_user_description_dict, X_user_covariates_dict, \n",
    "                                                                                                     T_dict, Y_dict, t1=t1, t2=t2, domain=domain, \n",
    "                                                                                                     model_0=Lasso(), model_1=Lasso(), sample_with_replacements=True)\n",
    "            t_learner_res[domain][(t1, t2)]['ate'].append(ate)\n",
    "            t_learner_res[domain][(t1, t2)]['train_mse_0'].append(train_mse_0)\n",
    "            t_learner_res[domain][(t1, t2)]['test_mse_0'].append(test_mse_0)\n",
    "            t_learner_res[domain][(t1, t2)]['train_mse_1'].append(train_mse_1)\n",
    "            t_learner_res[domain][(t1, t2)]['test_mse_1'].append(test_mse_1)"
   ]
  },
  {
   "cell_type": "code",
   "execution_count": 87,
   "id": "6821a2fe-174a-4485-b5a6-6b83a018e76a",
   "metadata": {},
   "outputs": [
    {
     "name": "stdout",
     "output_type": "stream",
     "text": [
      "music\n",
      "('6-12', '0-6')\n",
      "\n",
      "S-learner\n",
      "ATE [-0.23920791637814473, 0.005529679871942565]\n",
      "train_mse [0.32213145422382083, 0.3978648518590186]\n",
      "test_mse [1.8393340545064516, 113664963.16394253]\n",
      "\n",
      "T-learner\n",
      "ATE [-0.09479619161162474, 0.019545566472422043]\n",
      "train_mse_0 [0.7969816767740197, 0.9228597311778]\n",
      "test_mse_0 [0.6642507173229246, 1.1031319712704963]\n",
      "train_mse_1 [0.7646414709687903, 0.9374615704266155]\n",
      "test_mse_1 [0.5832554930410544, 1.12356065809468]\n",
      "------------------------------------------------------------------------------------\n",
      "------------------------------------------------------------------------------------\n",
      "music\n",
      "('12-18', '6-12')\n",
      "\n",
      "S-learner\n",
      "ATE [-0.10628918089169483, 0.10718258504380612]\n",
      "train_mse [0.4030327233258154, 0.4731572377828261]\n",
      "test_mse [1.5008870864177803, 182507241.37217942]\n",
      "\n",
      "T-learner\n",
      "ATE [-0.062183160828699124, 0.05866941127559187]\n",
      "train_mse_0 [0.7524036556553181, 0.9380615294031118]\n",
      "test_mse_0 [0.5997454129118202, 1.1024021915461444]\n",
      "train_mse_1 [0.7654249529870832, 0.9160023133994482]\n",
      "test_mse_1 [0.6757282692308664, 1.0480434583313574]\n",
      "------------------------------------------------------------------------------------\n",
      "------------------------------------------------------------------------------------\n",
      "music\n",
      "('18-0', '12-18')\n",
      "\n",
      "S-learner\n",
      "ATE [-0.10356655626566477, 0.028184099777061343]\n",
      "train_mse [0.5189126172294751, 0.5853902925641649]\n",
      "test_mse [0.8835176293108931, 517497.9423293318]\n",
      "\n",
      "T-learner\n",
      "ATE [-0.0830033929546273, 0.018673895907363625]\n",
      "train_mse_0 [0.7905208912939254, 0.9095749257759885]\n",
      "test_mse_0 [0.6687485562878592, 1.1416831547428674]\n",
      "train_mse_1 [0.7820303197662997, 0.8892482160597538]\n",
      "test_mse_1 [0.650898714463205, 1.011550845169429]\n",
      "------------------------------------------------------------------------------------\n",
      "------------------------------------------------------------------------------------\n",
      "music\n",
      "('0-6', '18-0')\n",
      "\n",
      "S-learner\n",
      "ATE [-0.021786275480112742, 0.1387766604172629]\n",
      "train_mse [0.4895408776106753, 0.5508570037274938]\n",
      "test_mse [0.9674445963794753, 18909299.992198482]\n",
      "\n",
      "T-learner\n",
      "ATE [0.02905820794532439, 0.13102561212007624]\n",
      "train_mse_0 [0.7636480115728431, 0.8852737939758363]\n",
      "test_mse_0 [0.6864449742587477, 0.9942191359739873]\n",
      "train_mse_1 [0.7765813134052392, 0.9205447123563455]\n",
      "test_mse_1 [0.7102259934999964, 1.1689405573753442]\n",
      "------------------------------------------------------------------------------------\n",
      "------------------------------------------------------------------------------------\n",
      "politics\n",
      "('6-12', '0-6')\n",
      "\n",
      "S-learner\n",
      "ATE [-1.465415645668096, 1.2509801590861123]\n",
      "train_mse [9.11199031626603e-24, 1.883085824532178e-22]\n",
      "test_mse [13.40118926540513, 778570.4569257671]\n",
      "\n",
      "T-learner\n",
      "ATE [-0.31061102007607994, 0.018981083606971098]\n",
      "train_mse_0 [0.7293813808151257, 1.3969986242055188]\n",
      "test_mse_0 [0.3619130763010596, 2.3975686517109227]\n",
      "train_mse_1 [0.5427367300045728, 0.9345107896352267]\n",
      "test_mse_1 [0.23883413013354232, 1.4132412188089343]\n",
      "------------------------------------------------------------------------------------\n",
      "------------------------------------------------------------------------------------\n",
      "politics\n",
      "('12-18', '6-12')\n",
      "\n",
      "S-learner\n",
      "ATE [-1.5690324131174165, 1.4087805308396064]\n",
      "train_mse [4.712629561524712e-22, 9.074268464277339e-21]\n",
      "test_mse [28.812118011398233, 20400244.846867096]\n",
      "\n",
      "T-learner\n",
      "ATE [-0.06207508188467222, 0.258625482877827]\n",
      "train_mse_0 [0.49026879797187684, 0.9606510191627268]\n",
      "test_mse_0 [0.2590548621344548, 1.4722570905079524]\n",
      "train_mse_1 [0.7205903360752981, 1.048194493518261]\n",
      "test_mse_1 [0.44442015779255245, 1.550543371770376]\n",
      "------------------------------------------------------------------------------------\n",
      "------------------------------------------------------------------------------------\n",
      "politics\n",
      "('18-0', '12-18')\n",
      "\n",
      "S-learner\n",
      "ATE [-1.2454681161486734, 0.24668617843659185]\n",
      "train_mse [2.076327288219448e-20, 1.8491758573873538e-19]\n",
      "test_mse [32.15079601125356, 38742551.97119414]\n",
      "\n",
      "T-learner\n",
      "ATE [-0.17116368291446646, 0.059332746002075804]\n",
      "train_mse_0 [0.6930457460983225, 1.087999184382082]\n",
      "test_mse_0 [0.4541059404086798, 1.5084122859487374]\n",
      "train_mse_1 [0.6526797146247376, 1.0144719485739433]\n",
      "test_mse_1 [0.407839629321592, 1.6969044824325183]\n",
      "------------------------------------------------------------------------------------\n",
      "------------------------------------------------------------------------------------\n",
      "politics\n",
      "('0-6', '18-0')\n",
      "\n",
      "S-learner\n",
      "ATE [-0.7055990865439525, 1.2259954734199479]\n",
      "train_mse [2.7367554538951135e-21, 4.2312791467886954e-20]\n",
      "test_mse [32.28616157765831, 12607586.722282495]\n",
      "\n",
      "T-learner\n",
      "ATE [-0.015875124207256435, 0.28645251713027875]\n",
      "train_mse_0 [0.6333821361832968, 0.9827561807636692]\n",
      "test_mse_0 [0.3941740235312551, 1.3427746263867297]\n",
      "train_mse_1 [0.7482888402635062, 1.4361133159589885]\n",
      "test_mse_1 [0.4092976664971064, 2.1785131666545725]\n",
      "------------------------------------------------------------------------------------\n",
      "------------------------------------------------------------------------------------\n",
      "health\n",
      "('6-12', '0-6')\n",
      "\n",
      "S-learner\n",
      "ATE [-0.6744077518731941, 0.3473510448223299]\n",
      "train_mse [1.354415712897028e-19, 1.3387888871492842e-18]\n",
      "test_mse [67.53203523813873, 124654358.19031794]\n",
      "\n",
      "T-learner\n",
      "ATE [-0.09088875785723917, 0.11875787673134951]\n",
      "train_mse_0 [0.7838817152907281, 1.1746915683227002]\n",
      "test_mse_0 [0.5137492881014003, 1.7895850632202097]\n",
      "train_mse_1 [0.758874570786499, 1.241612584061469]\n",
      "test_mse_1 [0.4805389598866452, 1.9344546669054457]\n",
      "------------------------------------------------------------------------------------\n",
      "------------------------------------------------------------------------------------\n",
      "health\n",
      "('12-18', '6-12')\n",
      "\n",
      "S-learner\n",
      "ATE [-0.4747081658836232, -0.0017093660617512906]\n",
      "train_mse [0.15950722484359703, 0.21900789295405984]\n",
      "test_mse [2.674487810783616, 1665823.149383658]\n",
      "\n",
      "T-learner\n",
      "ATE [-0.159578062370058, 0.026690274102597174]\n",
      "train_mse_0 [0.7910307309045903, 1.221915035950476]\n",
      "test_mse_0 [0.5080761061027359, 1.8336476260514523]\n",
      "train_mse_1 [0.737176271527688, 0.8946408970884157]\n",
      "test_mse_1 [0.5634461241283096, 1.1684264259334374]\n",
      "------------------------------------------------------------------------------------\n",
      "------------------------------------------------------------------------------------\n",
      "health\n",
      "('18-0', '12-18')\n",
      "\n",
      "S-learner\n",
      "ATE [-0.09195212571648881, 0.1426109578173903]\n",
      "train_mse [0.2931984186996616, 0.3612894276457607]\n",
      "test_mse [1.2716190090501767, 699352.1587441822]\n",
      "\n",
      "T-learner\n",
      "ATE [-0.05990250463865085, 0.07240923895503153]\n",
      "train_mse_0 [0.7064816375417179, 0.9378634469209892]\n",
      "test_mse_0 [0.563365664819462, 1.0903941692007892]\n",
      "train_mse_1 [0.7057532044600503, 0.8947286946892244]\n",
      "test_mse_1 [0.55157781765291, 1.1550659450039826]\n",
      "------------------------------------------------------------------------------------\n",
      "------------------------------------------------------------------------------------\n",
      "health\n",
      "('0-6', '18-0')\n",
      "\n",
      "S-learner\n",
      "ATE [-0.5784208404234129, 0.46598047181032526]\n",
      "train_mse [0.03804720048435741, 0.08754968002440836]\n",
      "test_mse [10.918332637179029, 30056320.513900135]\n",
      "\n",
      "T-learner\n",
      "ATE [-0.05274331616326871, 0.12191258414030054]\n",
      "train_mse_0 [0.694850577013541, 0.907430213362165]\n",
      "test_mse_0 [0.5119989463511214, 1.1882335054245572]\n",
      "train_mse_1 [0.7818435641576249, 1.159856226275165]\n",
      "test_mse_1 [0.4980259514487826, 1.8460553946238685]\n",
      "------------------------------------------------------------------------------------\n",
      "------------------------------------------------------------------------------------\n",
      "technology\n",
      "('6-12', '0-6')\n",
      "\n",
      "S-learner\n",
      "ATE [-0.5629524032936527, 0.6674202150336237]\n",
      "train_mse [2.0581305619152291e-19, 2.1883704011911268e-18]\n",
      "test_mse [167.79501189091985, 991632191.124598]\n",
      "\n",
      "T-learner\n",
      "ATE [-0.09827425914590669, 0.10624260406480267]\n",
      "train_mse_0 [0.7278043765677633, 1.0473910766372772]\n",
      "test_mse_0 [0.4646560955702731, 1.4966186657299045]\n",
      "train_mse_1 [0.7525246722208252, 1.0673451210225653]\n",
      "test_mse_1 [0.4915961213789815, 1.560619823129579]\n",
      "------------------------------------------------------------------------------------\n",
      "------------------------------------------------------------------------------------\n",
      "technology\n",
      "('12-18', '6-12')\n",
      "\n",
      "S-learner\n",
      "ATE [-0.34490031594807724, 0.008937519402812918]\n",
      "train_mse [0.2507984471053611, 0.3372001128977566]\n",
      "test_mse [2.361839900790907, 1050974.557789247]\n",
      "\n",
      "T-learner\n",
      "ATE [-0.1656071528030111, -0.012015350976980456]\n",
      "train_mse_0 [0.7467508823272687, 1.082340878491634]\n",
      "test_mse_0 [0.5166134754024659, 1.553709640566702]\n",
      "train_mse_1 [0.7868790239253616, 0.9719446119872266]\n",
      "test_mse_1 [0.6585947852840043, 1.2065693127517387]\n",
      "------------------------------------------------------------------------------------\n",
      "------------------------------------------------------------------------------------\n",
      "technology\n",
      "('18-0', '12-18')\n",
      "\n",
      "S-learner\n",
      "ATE [-0.0725277536518967, 0.10002654776882172]\n",
      "train_mse [0.38089849881055454, 0.4567434418542438]\n",
      "test_mse [1.0817360408805652, 25424361.071677536]\n",
      "\n",
      "T-learner\n",
      "ATE [-0.04623058355734749, 0.08140109545647566]\n",
      "train_mse_0 [0.7707163675319696, 0.99517193961858]\n",
      "test_mse_0 [0.618189253918179, 1.252311547241625]\n",
      "train_mse_1 [0.7228747813116806, 0.9633256582435462]\n",
      "test_mse_1 [0.5826226373605633, 1.2574828762255144]\n",
      "------------------------------------------------------------------------------------\n",
      "------------------------------------------------------------------------------------\n",
      "technology\n",
      "('0-6', '18-0')\n",
      "\n",
      "S-learner\n",
      "ATE [-0.2113165524161995, 0.5076050556625417]\n",
      "train_mse [0.07665569082704775, 0.126569215684789]\n",
      "test_mse [14.53167101989519, 1182592845.8307061]\n",
      "\n",
      "T-learner\n",
      "ATE [-0.023816420495439326, 0.19629479355606744]\n",
      "train_mse_0 [0.7317158185927729, 0.9569036731144808]\n",
      "test_mse_0 [0.5446764155295626, 1.209497093587545]\n",
      "train_mse_1 [0.7340008871348481, 1.0887916390187742]\n",
      "test_mse_1 [0.48038700131257356, 1.6731051102291659]\n",
      "------------------------------------------------------------------------------------\n",
      "------------------------------------------------------------------------------------\n"
     ]
    }
   ],
   "source": [
    "treatment_names = ['0-6', '6-12', '12-18', '18-0', '0-6']\n",
    "for domain in domains:\n",
    "    for (t1, t2) in treatment_pairs:\n",
    "        print(domain)\n",
    "        print((treatment_names[t2], treatment_names[t1]))\n",
    "        print()\n",
    "        print('S-learner')\n",
    "        print(f'ATE {esti.bootstrap_confidence_interval(s_learner_res[domain][(t1, t2)][\"ate\"])}')\n",
    "        print(f'train_mse {esti.bootstrap_confidence_interval(s_learner_res[domain][(t1, t2)][\"train_mse\"])}')\n",
    "        print(f'test_mse {esti.bootstrap_confidence_interval(s_learner_res[domain][(t1, t2)][\"test_mse\"])}')\n",
    "        print()\n",
    "        print('T-learner')\n",
    "        print(f'ATE {esti.bootstrap_confidence_interval(t_learner_res[domain][(t1, t2)][\"ate\"])}')\n",
    "        print(f'train_mse_0 {esti.bootstrap_confidence_interval(t_learner_res[domain][(t1, t2)][\"train_mse_0\"])}')\n",
    "        print(f'test_mse_0 {esti.bootstrap_confidence_interval(t_learner_res[domain][(t1, t2)][\"test_mse_0\"])}')\n",
    "        print(f'train_mse_1 {esti.bootstrap_confidence_interval(t_learner_res[domain][(t1, t2)][\"train_mse_1\"])}')\n",
    "        print(f'test_mse_1 {esti.bootstrap_confidence_interval(t_learner_res[domain][(t1, t2)][\"test_mse_1\"])}')\n",
    "        print('------------------------------------------------------------------------------------')\n",
    "        print('------------------------------------------------------------------------------------')"
   ]
  },
  {
   "cell_type": "markdown",
   "id": "6d259dea-7a42-41dd-a386-16d11a1cba29",
   "metadata": {},
   "source": [
    "## Linear X-Learner"
   ]
  },
  {
   "cell_type": "code",
   "execution_count": 157,
   "id": "cea05525-e773-4081-a2e1-e3404791cedd",
   "metadata": {},
   "outputs": [],
   "source": [
    "def plot_feature_importance(model, ax, shapes, title):\n",
    "    feature_importance = model.coef_\n",
    "    text_fi = feature_importance[0:shapes['text']]\n",
    "    user_d_fi = feature_importance[shapes['text']:shapes['text']+shapes['user_d']]\n",
    "    user_c_fi = feature_importance[shapes['text']+shapes['user_d']:shapes['text']+shapes['user_d']+shapes['user_c']]\n",
    "    domain_fi = feature_importance[-shapes['domain']:]\n",
    "    text_fi = np.abs(text_fi).mean()\n",
    "    user_d_fi = np.abs(user_d_fi).mean()\n",
    "    user_c_fi = np.abs(user_c_fi).mean()\n",
    "    domain_fi = np.abs(domain_fi).mean()\n",
    "    \n",
    "    ax.bar(['text', 'user description', 'user covariates', 'domain'], [text_fi, user_d_fi, user_c_fi, domain_fi])\n",
    "    ax.set_title(title)"
   ]
  },
  {
   "cell_type": "code",
   "execution_count": 164,
   "id": "491bad80-1ef9-4d5c-969b-0df50f3b9ff0",
   "metadata": {},
   "outputs": [
    {
     "name": "stdout",
     "output_type": "stream",
     "text": [
      "('6-12', '0-6')\n",
      "train_mse_0 = 0.900099188140052\n",
      "test_mse_0 = 0.8501899238765714\n",
      "train_mse_1 = 0.872620568104269\n",
      "train_mse_0 = 0.900099188140052\n",
      "\n",
      "('12-18', '6-12')\n",
      "train_mse_0 = 0.872620568104269\n",
      "test_mse_0 = 0.9196704780274816\n",
      "train_mse_1 = 0.8457292716672409\n",
      "train_mse_0 = 0.872620568104269\n",
      "\n",
      "('18-0', '12-18')\n",
      "train_mse_0 = 0.8457292716672409\n",
      "test_mse_0 = 0.897146269449552\n",
      "train_mse_1 = 0.812955211953679\n",
      "train_mse_0 = 0.8457292716672409\n",
      "\n",
      "('0-6', '18-0')\n",
      "train_mse_0 = 0.812955211953679\n",
      "test_mse_0 = 0.9087002181420786\n",
      "train_mse_1 = 0.900099188140052\n",
      "train_mse_0 = 0.812955211953679\n",
      "\n"
     ]
    }
   ],
   "source": [
    "treatment_pairs = [(0,1), (1,2), (2,3), (3,0)]\n",
    "treatment_names = ['0-6', '6-12', '12-18', '18-0', '0-6']\n",
    "res_models = dict()\n",
    "for (t1, t2) in treatment_pairs:\n",
    "        tau_hat_0, tau_hat_1, f_0, f_1, train_mse_0, test_mse_0, train_mse_1, test_mse_1 = esti.X_learner(X_text_dict,\n",
    "                                                                                                          X_user_description_dict, X_user_covariates_dict, T_dict, Y_dict,\n",
    "                                                                                                          t1=t1, t2=t2, \n",
    "                                                                                                          f_0=Lasso(), f_1=Lasso(), \n",
    "                                                                                                          tau_hat_0=LinearRegression(), tau_hat_1=LinearRegression(),\n",
    "                                                                                                          g=lambda x: 0.5, test_portion=0.1, random_state=42, print_progress=False)\n",
    "        res_models[(t1, t2)] = (tau_hat_0, tau_hat_1)\n",
    "        print((treatment_names[t2], treatment_names[t1]))\n",
    "        print(f'train_mse_0 = {train_mse_0}')\n",
    "        print(f'test_mse_0 = {test_mse_0}')\n",
    "        print(f'train_mse_1 = {train_mse_1}')\n",
    "        print(f'train_mse_0 = {train_mse_0}')\n",
    "        print()"
   ]
  },
  {
   "cell_type": "code",
   "execution_count": 166,
   "id": "a179ec51-2dc3-43e6-bcda-ea0642ee0c78",
   "metadata": {},
   "outputs": [
    {
     "data": {
      "image/png": "[encoded data removed]",
      "text/plain": [
       "<Figure size 1080x1296 with 8 Axes>"
      ]
     },
     "metadata": {
      "needs_background": "light"
     },
     "output_type": "display_data"
    }
   ],
   "source": [
    "text_shape = X_text_dict['music'].shape[1]\n",
    "user_d_shape = X_user_description_dict['music'].shape[1]\n",
    "user_c_shape = X_user_covariates_dict['music'].shape[1]\n",
    "domain_shape = len(domains)\n",
    "feature_shapes = dict(text=text_shape, user_d=user_d_shape, user_c=user_c_shape, domain=domain_shape)\n",
    "treatment_names = ['0-6', '6-12', '12-18', '18-0', '0-6']\n",
    "fig, ax = plt.subplots(4,2,figsize=(15,18))\n",
    "for row_idx, (t1, t2) in enumerate(treatment_pairs):\n",
    "    tau_hat_0, tau_hat_1 = res_models[(t1, t2)]\n",
    "    plot_feature_importance(tau_hat_0, ax[row_idx, 0], feature_shapes, title=f'model for {treatment_names[t1]}')\n",
    "    plot_feature_importance(tau_hat_1, ax[row_idx, 1], feature_shapes, title=f'model for {treatment_names[t2]}')"
   ]
  }
 ],
 "metadata": {
  "kernelspec": {
   "display_name": "Python 3 (ipykernel)",
   "language": "python",
   "name": "python3"
  },
  "language_info": {
   "codemirror_mode": {
    "name": "ipython",
    "version": 3
   },
   "file_extension": ".py",
   "mimetype": "text/x-python",
   "name": "python",
   "nbconvert_exporter": "python",
   "pygments_lexer": "ipython3",
   "version": "3.9.12"
  }
 },
 "nbformat": 4,
 "nbformat_minor": 5
}
